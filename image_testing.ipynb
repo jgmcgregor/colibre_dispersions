{
 "cells": [
  {
   "cell_type": "code",
   "execution_count": 1,
   "metadata": {},
   "outputs": [],
   "source": [
    "import os\n",
    "import numpy as np\n",
    "import unyt\n",
    "import swiftsimio as sw\n",
    "from swiftgalaxy import SWIFTGalaxy, SOAP\n",
    "from swiftsimio.visualisation.projection import project_gas, project_pixel_grid\n",
    "from swiftsimio.visualisation import generate_smoothing_lengths\n",
    "import matplotlib.pyplot as plt\n",
    "import matplotlib.colors"
   ]
  },
  {
   "cell_type": "code",
   "execution_count": 17,
   "metadata": {},
   "outputs": [],
   "source": [
    "colibre_base_path = \"cosma_files/\"\n",
    "simulation_dir = \"L012_m6/THERMAL_AGN_m6\"\n",
    "soap_catalogue_file = os.path.join(\n",
    "    colibre_base_path,\n",
    "    simulation_dir,\n",
    "    \"SOAP/halo_properties_0127.hdf5\",\n",
    ")\n",
    "\n",
    "\n",
    "virtual_snapshot_file = os.path.join(\n",
    "    colibre_base_path, simulation_dir, \"SOAP/colibre_with_SOAP_membership_0127.hdf5\"\n",
    ")"
   ]
  },
  {
   "cell_type": "code",
   "execution_count": 19,
   "metadata": {},
   "outputs": [],
   "source": [
    "sd = sw.SWIFTDataset(soap_catalogue_file)\n",
    "#m200c = sd.spherical_overdensity_200_crit.total_mass\n",
    "#candidates = np.argwhere(\n",
    "#    np.logical_and(m200c > 1e11 * u.Msun, m200c < 2e11 * u.Msun)\n",
    "#).squeeze()\n",
    "# unnecessary, since I determine my chosen index elsewhere\n",
    "\n",
    "chosen_halo_index = 11956"
   ]
  },
  {
   "cell_type": "code",
   "execution_count": 20,
   "metadata": {},
   "outputs": [],
   "source": [
    "sg = SWIFTGalaxy(\n",
    "    virtual_snapshot_file,\n",
    "    SOAP(\n",
    "        soap_catalogue_file,\n",
    "        soap_index=chosen_halo_index,\n",
    "    ),\n",
    ")"
   ]
  },
  {
   "cell_type": "code",
   "execution_count": 21,
   "metadata": {},
   "outputs": [
    {
     "data": {
      "text/plain": [
       "['__annotations__',\n",
       " '__class__',\n",
       " '__copy__',\n",
       " '__deepcopy__',\n",
       " '__delattr__',\n",
       " '__dict__',\n",
       " '__dir__',\n",
       " '__doc__',\n",
       " '__eq__',\n",
       " '__format__',\n",
       " '__ge__',\n",
       " '__getattribute__',\n",
       " '__getitem__',\n",
       " '__getstate__',\n",
       " '__gt__',\n",
       " '__hash__',\n",
       " '__init__',\n",
       " '__init_subclass__',\n",
       " '__le__',\n",
       " '__lt__',\n",
       " '__module__',\n",
       " '__ne__',\n",
       " '__new__',\n",
       " '__reduce__',\n",
       " '__reduce_ex__',\n",
       " '__repr__',\n",
       " '__setattr__',\n",
       " '__sizeof__',\n",
       " '__str__',\n",
       " '__subclasshook__',\n",
       " '__weakref__',\n",
       " '_append_to_coordinate_like_transform',\n",
       " '_append_to_velocity_like_transform',\n",
       " '_coordinate_like_transform',\n",
       " '_copyinit',\n",
       " '_data_copy',\n",
       " '_extra_mask',\n",
       " '_initialised',\n",
       " '_particle_dataset_helpers',\n",
       " '_spatial_mask',\n",
       " '_transform',\n",
       " '_translate',\n",
       " '_velocity_like_transform',\n",
       " '_void_derived_coordinates',\n",
       " '_warn_on_read',\n",
       " 'black_holes',\n",
       " 'boost',\n",
       " 'centre',\n",
       " 'coordinates_dataset_name',\n",
       " 'create_datasets',\n",
       " 'dark_matter',\n",
       " 'filename',\n",
       " 'gas',\n",
       " 'get_metadata',\n",
       " 'get_units',\n",
       " 'halo_catalogue',\n",
       " 'id_particle_dataset_name',\n",
       " 'mask',\n",
       " 'mask_particles',\n",
       " 'metadata',\n",
       " 'recentre',\n",
       " 'recentre_velocity',\n",
       " 'rotate',\n",
       " 'rotation',\n",
       " 'snapshot_filename',\n",
       " 'stars',\n",
       " 'transforms_like_coordinates',\n",
       " 'transforms_like_velocities',\n",
       " 'translate',\n",
       " 'units',\n",
       " 'velocities_dataset_name',\n",
       " 'velocity_centre',\n",
       " 'wrap_box']"
      ]
     },
     "execution_count": 21,
     "metadata": {},
     "output_type": "execute_result"
    }
   ],
   "source": [
    "dir(sg)"
   ]
  },
  {
   "cell_type": "code",
   "execution_count": 33,
   "metadata": {},
   "outputs": [
    {
     "data": {
      "text/plain": [
       "cosmo_array([], shape=(0, 3), dtype=float64, units='Mpc', comoving='True', cosmo_factor='a**1.0 at a=0.9999999999999997', valid_transform='True')"
      ]
     },
     "execution_count": 33,
     "metadata": {},
     "output_type": "execute_result"
    }
   ],
   "source": [
    "sg.gas.coordinates"
   ]
  },
  {
   "cell_type": "code",
   "execution_count": 24,
   "metadata": {},
   "outputs": [],
   "source": [
    "file = sw.load(\"cosma_files/L012_m6/THERMAL_AGN_m6/SOAP/colibre_with_SOAP_membership_0127.hdf5\")"
   ]
  },
  {
   "cell_type": "code",
   "execution_count": 27,
   "metadata": {},
   "outputs": [
    {
     "data": {
      "text/plain": [
       "['__class__',\n",
       " '__delattr__',\n",
       " '__dict__',\n",
       " '__dir__',\n",
       " '__doc__',\n",
       " '__eq__',\n",
       " '__format__',\n",
       " '__ge__',\n",
       " '__getattribute__',\n",
       " '__getstate__',\n",
       " '__gt__',\n",
       " '__hash__',\n",
       " '__init__',\n",
       " '__init_subclass__',\n",
       " '__le__',\n",
       " '__lt__',\n",
       " '__module__',\n",
       " '__ne__',\n",
       " '__new__',\n",
       " '__reduce__',\n",
       " '__reduce_ex__',\n",
       " '__repr__',\n",
       " '__setattr__',\n",
       " '__sizeof__',\n",
       " '__str__',\n",
       " '__subclasshook__',\n",
       " '__weakref__',\n",
       " 'black_holes',\n",
       " 'create_datasets',\n",
       " 'dark_matter',\n",
       " 'filename',\n",
       " 'gas',\n",
       " 'get_metadata',\n",
       " 'get_units',\n",
       " 'mask',\n",
       " 'metadata',\n",
       " 'stars',\n",
       " 'units']"
      ]
     },
     "execution_count": 27,
     "metadata": {},
     "output_type": "execute_result"
    }
   ],
   "source": [
    "dir(file)"
   ]
  },
  {
   "cell_type": "code",
   "execution_count": 28,
   "metadata": {},
   "outputs": [
    {
     "data": {
      "text/plain": [
       "['__abstractmethods__',\n",
       " '__annotations__',\n",
       " '__class__',\n",
       " '__delattr__',\n",
       " '__dict__',\n",
       " '__dir__',\n",
       " '__doc__',\n",
       " '__eq__',\n",
       " '__format__',\n",
       " '__ge__',\n",
       " '__getattribute__',\n",
       " '__getstate__',\n",
       " '__gt__',\n",
       " '__hash__',\n",
       " '__init__',\n",
       " '__init_subclass__',\n",
       " '__le__',\n",
       " '__lt__',\n",
       " '__module__',\n",
       " '__ne__',\n",
       " '__new__',\n",
       " '__reduce__',\n",
       " '__reduce_ex__',\n",
       " '__repr__',\n",
       " '__setattr__',\n",
       " '__sizeof__',\n",
       " '__slots__',\n",
       " '__str__',\n",
       " '__subclasshook__',\n",
       " '__weakref__',\n",
       " '_abc_impl',\n",
       " 'a',\n",
       " 'black_holes_properties',\n",
       " 'boxsize',\n",
       " 'code',\n",
       " 'code_info',\n",
       " 'compiler_info',\n",
       " 'cosmology',\n",
       " 'cosmology_raw',\n",
       " 'dark_matter_properties',\n",
       " 'diffusion_info',\n",
       " 'dimension',\n",
       " 'extract_cosmology',\n",
       " 'filename',\n",
       " 'gas_gamma',\n",
       " 'gas_properties',\n",
       " 'get_mapping_metadata',\n",
       " 'get_metadata',\n",
       " 'get_named_column_metadata',\n",
       " 'get_nice_name',\n",
       " 'grain_to_element_mapping',\n",
       " 'gravity_scheme',\n",
       " 'handle',\n",
       " 'has_type',\n",
       " 'header',\n",
       " 'homogeneous_arrays',\n",
       " 'hydro_info',\n",
       " 'hydro_scheme',\n",
       " 'initial_mass_table',\n",
       " 'internal_code_units',\n",
       " 'library_info',\n",
       " 'load_groups',\n",
       " 'masking_valid',\n",
       " 'mass_table',\n",
       " 'n_black_holes',\n",
       " 'n_boundary',\n",
       " 'n_dark_matter',\n",
       " 'n_gas',\n",
       " 'n_neutrinos',\n",
       " 'n_sinks',\n",
       " 'n_stars',\n",
       " 'named_columns',\n",
       " 'num_files_per_snapshot',\n",
       " 'num_part',\n",
       " 'output_type',\n",
       " 'parameters',\n",
       " 'partial_snapshot',\n",
       " 'photon_group_edges',\n",
       " 'policy',\n",
       " 'postprocess_header',\n",
       " 'present_group_names',\n",
       " 'present_groups',\n",
       " 'redshift',\n",
       " 'reduced_lightspeed',\n",
       " 'run_name',\n",
       " 'runtime_pars',\n",
       " 'scale_factor',\n",
       " 'select_output',\n",
       " 'shared_cell_counts',\n",
       " 'snapshot_date',\n",
       " 'stars_properties',\n",
       " 'stars_scheme',\n",
       " 'subgrid_scheme',\n",
       " 'system_name',\n",
       " 't',\n",
       " 'time',\n",
       " 'units',\n",
       " 'unused_parameters',\n",
       " 'viscosity_info',\n",
       " 'z']"
      ]
     },
     "execution_count": 28,
     "metadata": {},
     "output_type": "execute_result"
    }
   ],
   "source": [
    "dir(file.metadata)"
   ]
  },
  {
   "cell_type": "code",
   "execution_count": null,
   "metadata": {},
   "outputs": [],
   "source": []
  }
 ],
 "metadata": {
  "kernelspec": {
   "display_name": "colibre_env",
   "language": "python",
   "name": "python3"
  },
  "language_info": {
   "codemirror_mode": {
    "name": "ipython",
    "version": 3
   },
   "file_extension": ".py",
   "mimetype": "text/x-python",
   "name": "python",
   "nbconvert_exporter": "python",
   "pygments_lexer": "ipython3",
   "version": "3.11.11"
  }
 },
 "nbformat": 4,
 "nbformat_minor": 2
}
